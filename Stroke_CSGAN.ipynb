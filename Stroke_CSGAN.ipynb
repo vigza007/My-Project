{
 "cells": [
  {
   "cell_type": "code",
   "execution_count": 2,
   "id": "b05a82bc-3bc0-4a3d-b266-4914db605708",
   "metadata": {},
   "outputs": [],
   "source": [
    "import numpy as np\n",
    "import pandas as pd\n",
    "from matplotlib import pyplot as plt\n",
    "%matplotlib inline\n",
    "import plotly.express as px\n",
    "from sklearn.metrics import classification_report\n",
    "from sklearn.model_selection import train_test_split\n",
    "from sklearn.neighbors import KNeighborsClassifier\n",
    "from sklearn.metrics import accuracy_score, classification_report, confusion_matrix\n",
    "from imblearn.over_sampling import SMOTE\n",
    "import warnings\n",
    "from sklearn.svm import SVC\n",
    "from sklearn.naive_bayes import GaussianNB\n",
    "from sklearn.metrics import RocCurveDisplay\n",
    "import matplotlib.pyplot as plt\n",
    "warnings.filterwarnings('ignore')\n",
    "import seaborn as sns\n",
    "from scipy.stats.mstats import winsorize\n",
    "from imblearn.combine import SMOTETomek"
   ]
  },
  {
   "cell_type": "code",
   "execution_count": 3,
   "id": "a4b9cf0f-b949-4d0c-9ada-4b14d46133c3",
   "metadata": {},
   "outputs": [
    {
     "data": {
      "text/html": [
       "<div>\n",
       "<style scoped>\n",
       "    .dataframe tbody tr th:only-of-type {\n",
       "        vertical-align: middle;\n",
       "    }\n",
       "\n",
       "    .dataframe tbody tr th {\n",
       "        vertical-align: top;\n",
       "    }\n",
       "\n",
       "    .dataframe thead th {\n",
       "        text-align: right;\n",
       "    }\n",
       "</style>\n",
       "<table border=\"1\" class=\"dataframe\">\n",
       "  <thead>\n",
       "    <tr style=\"text-align: right;\">\n",
       "      <th></th>\n",
       "      <th>id</th>\n",
       "      <th>gender</th>\n",
       "      <th>age</th>\n",
       "      <th>hypertension</th>\n",
       "      <th>heart_disease</th>\n",
       "      <th>ever_married</th>\n",
       "      <th>work_type</th>\n",
       "      <th>Residence_type</th>\n",
       "      <th>avg_glucose_level</th>\n",
       "      <th>bmi</th>\n",
       "      <th>smoking_status</th>\n",
       "      <th>stroke</th>\n",
       "    </tr>\n",
       "  </thead>\n",
       "  <tbody>\n",
       "    <tr>\n",
       "      <th>3637</th>\n",
       "      <td>70268</td>\n",
       "      <td>Male</td>\n",
       "      <td>82.0</td>\n",
       "      <td>0</td>\n",
       "      <td>0</td>\n",
       "      <td>Yes</td>\n",
       "      <td>Private</td>\n",
       "      <td>Urban</td>\n",
       "      <td>226.84</td>\n",
       "      <td>25.3</td>\n",
       "      <td>formerly smoked</td>\n",
       "      <td>0</td>\n",
       "    </tr>\n",
       "    <tr>\n",
       "      <th>3150</th>\n",
       "      <td>69979</td>\n",
       "      <td>Male</td>\n",
       "      <td>73.0</td>\n",
       "      <td>0</td>\n",
       "      <td>0</td>\n",
       "      <td>Yes</td>\n",
       "      <td>Self-employed</td>\n",
       "      <td>Rural</td>\n",
       "      <td>231.43</td>\n",
       "      <td>23.0</td>\n",
       "      <td>smokes</td>\n",
       "      <td>0</td>\n",
       "    </tr>\n",
       "    <tr>\n",
       "      <th>185</th>\n",
       "      <td>41081</td>\n",
       "      <td>Male</td>\n",
       "      <td>63.0</td>\n",
       "      <td>0</td>\n",
       "      <td>0</td>\n",
       "      <td>Yes</td>\n",
       "      <td>Private</td>\n",
       "      <td>Rural</td>\n",
       "      <td>137.30</td>\n",
       "      <td>31.7</td>\n",
       "      <td>formerly smoked</td>\n",
       "      <td>1</td>\n",
       "    </tr>\n",
       "    <tr>\n",
       "      <th>1172</th>\n",
       "      <td>30411</td>\n",
       "      <td>Female</td>\n",
       "      <td>40.0</td>\n",
       "      <td>0</td>\n",
       "      <td>0</td>\n",
       "      <td>No</td>\n",
       "      <td>Private</td>\n",
       "      <td>Rural</td>\n",
       "      <td>117.45</td>\n",
       "      <td>30.7</td>\n",
       "      <td>smokes</td>\n",
       "      <td>0</td>\n",
       "    </tr>\n",
       "    <tr>\n",
       "      <th>774</th>\n",
       "      <td>41033</td>\n",
       "      <td>Female</td>\n",
       "      <td>31.0</td>\n",
       "      <td>0</td>\n",
       "      <td>0</td>\n",
       "      <td>Yes</td>\n",
       "      <td>Govt_job</td>\n",
       "      <td>Rural</td>\n",
       "      <td>55.27</td>\n",
       "      <td>32.5</td>\n",
       "      <td>formerly smoked</td>\n",
       "      <td>0</td>\n",
       "    </tr>\n",
       "  </tbody>\n",
       "</table>\n",
       "</div>"
      ],
      "text/plain": [
       "         id  gender   age  hypertension  heart_disease ever_married  \\\n",
       "3637  70268    Male  82.0             0              0          Yes   \n",
       "3150  69979    Male  73.0             0              0          Yes   \n",
       "185   41081    Male  63.0             0              0          Yes   \n",
       "1172  30411  Female  40.0             0              0           No   \n",
       "774   41033  Female  31.0             0              0          Yes   \n",
       "\n",
       "          work_type Residence_type  avg_glucose_level   bmi   smoking_status  \\\n",
       "3637        Private          Urban             226.84  25.3  formerly smoked   \n",
       "3150  Self-employed          Rural             231.43  23.0           smokes   \n",
       "185         Private          Rural             137.30  31.7  formerly smoked   \n",
       "1172        Private          Rural             117.45  30.7           smokes   \n",
       "774        Govt_job          Rural              55.27  32.5  formerly smoked   \n",
       "\n",
       "      stroke  \n",
       "3637       0  \n",
       "3150       0  \n",
       "185        1  \n",
       "1172       0  \n",
       "774        0  "
      ]
     },
     "execution_count": 3,
     "metadata": {},
     "output_type": "execute_result"
    }
   ],
   "source": [
    "df = pd.read_csv('healthcare-dataset-stroke-data.csv')\n",
    "df.sample(5)"
   ]
  },
  {
   "cell_type": "code",
   "execution_count": 6,
   "id": "a87bf4e9-773f-4969-814e-2c4825744385",
   "metadata": {},
   "outputs": [
    {
     "data": {
      "text/plain": [
       "id                     int64\n",
       "gender                object\n",
       "age                  float64\n",
       "hypertension           int64\n",
       "heart_disease          int64\n",
       "ever_married          object\n",
       "work_type             object\n",
       "Residence_type        object\n",
       "avg_glucose_level    float64\n",
       "bmi                  float64\n",
       "smoking_status        object\n",
       "stroke                 int64\n",
       "dtype: object"
      ]
     },
     "execution_count": 6,
     "metadata": {},
     "output_type": "execute_result"
    }
   ],
   "source": [
    "df.dtypes"
   ]
  },
  {
   "cell_type": "code",
   "execution_count": 8,
   "id": "63bddab0-fafe-430a-9cfd-4e1bb7cb9866",
   "metadata": {},
   "outputs": [],
   "source": [
    "df.replace('Male',0, inplace = True)\n",
    "df.replace('Female',1, inplace = True)\n",
    "df.replace('Other',2, inplace = True)"
   ]
  },
  {
   "cell_type": "code",
   "execution_count": 10,
   "id": "df9868dc-e28a-4953-95f1-304e9a45e0b6",
   "metadata": {},
   "outputs": [],
   "source": [
    "#Data Preprocessing\n",
    "def print_unique_col_values(df):\n",
    "       for column in df:\n",
    "            if df[column].dtypes=='object':\n",
    "                print(f'{column}: {df[column].unique()}') "
   ]
  },
  {
   "cell_type": "code",
   "execution_count": 12,
   "id": "0635d5a6-5b8f-42c1-af17-eecaf698dbfe",
   "metadata": {},
   "outputs": [
    {
     "name": "stdout",
     "output_type": "stream",
     "text": [
      "ever_married: ['Yes' 'No']\n",
      "work_type: ['Private' 'Self-employed' 'Govt_job' 'children' 'Never_worked']\n",
      "Residence_type: ['Urban' 'Rural']\n",
      "smoking_status: ['formerly smoked' 'never smoked' 'smokes' 'Unknown']\n"
     ]
    }
   ],
   "source": [
    "print_unique_col_values(df)"
   ]
  },
  {
   "cell_type": "code",
   "execution_count": 14,
   "id": "9e6666af-53f4-4a62-9dda-b8ea3c9af432",
   "metadata": {},
   "outputs": [],
   "source": [
    "df.replace('Yes',1, inplace = True)\n",
    "df.replace('No',0 , inplace = True)"
   ]
  },
  {
   "cell_type": "code",
   "execution_count": 16,
   "id": "71abe726-04ab-49de-a3a3-8bd4622e9b04",
   "metadata": {},
   "outputs": [
    {
     "name": "stdout",
     "output_type": "stream",
     "text": [
      "work_type: ['Private' 'Self-employed' 'Govt_job' 'children' 'Never_worked']\n",
      "Residence_type: ['Urban' 'Rural']\n",
      "smoking_status: ['formerly smoked' 'never smoked' 'smokes' 'Unknown']\n"
     ]
    }
   ],
   "source": [
    "print_unique_col_values(df)"
   ]
  },
  {
   "cell_type": "code",
   "execution_count": 18,
   "id": "796c7fb9-54bc-473d-a401-685a5bfe36e5",
   "metadata": {},
   "outputs": [],
   "source": [
    "df.replace('Urban',1, inplace = True)\n",
    "df.replace('Rural',0, inplace = True)"
   ]
  },
  {
   "cell_type": "code",
   "execution_count": 20,
   "id": "0683850d-5cd9-4212-9411-595c40d0b22b",
   "metadata": {},
   "outputs": [
    {
     "name": "stdout",
     "output_type": "stream",
     "text": [
      "work_type: ['Private' 'Self-employed' 'Govt_job' 'children' 'Never_worked']\n",
      "smoking_status: ['formerly smoked' 'never smoked' 'smokes' 'Unknown']\n"
     ]
    }
   ],
   "source": [
    "print_unique_col_values(df)"
   ]
  },
  {
   "cell_type": "code",
   "execution_count": 22,
   "id": "6ffbe29a-8bd2-4a81-a820-e51d647687b7",
   "metadata": {},
   "outputs": [],
   "source": [
    "df = pd.get_dummies(data=df, columns=['work_type','smoking_status'])"
   ]
  },
  {
   "cell_type": "code",
   "execution_count": 24,
   "id": "131ab13c-e004-48ac-ae6d-165651fde335",
   "metadata": {},
   "outputs": [
    {
     "data": {
      "text/plain": [
       "id                                  0\n",
       "gender                              0\n",
       "age                                 0\n",
       "hypertension                        0\n",
       "heart_disease                       0\n",
       "ever_married                        0\n",
       "Residence_type                      0\n",
       "avg_glucose_level                   0\n",
       "bmi                               201\n",
       "stroke                              0\n",
       "work_type_Govt_job                  0\n",
       "work_type_Never_worked              0\n",
       "work_type_Private                   0\n",
       "work_type_Self-employed             0\n",
       "work_type_children                  0\n",
       "smoking_status_Unknown              0\n",
       "smoking_status_formerly smoked      0\n",
       "smoking_status_never smoked         0\n",
       "smoking_status_smokes               0\n",
       "dtype: int64"
      ]
     },
     "execution_count": 24,
     "metadata": {},
     "output_type": "execute_result"
    }
   ],
   "source": [
    "df.isnull().sum()"
   ]
  },
  {
   "cell_type": "code",
   "execution_count": 26,
   "id": "09e8d885-c708-40ed-ab1e-e609f782e973",
   "metadata": {},
   "outputs": [],
   "source": [
    "# delete id col => มันไม่จำเป็นต้องใช้\n",
    "df = df.drop('id', axis=1)"
   ]
  },
  {
   "cell_type": "code",
   "execution_count": 28,
   "id": "89424c8b-d07e-4213-8505-0babf5e89143",
   "metadata": {},
   "outputs": [
    {
     "name": "stdout",
     "output_type": "stream",
     "text": [
      "3.933 % of bmi data is missing\n"
     ]
    }
   ],
   "source": [
    "bmi_missing_values = df['bmi'].isna().value_counts()\n",
    "bmi_missing_values\n",
    "print(f'{round(bmi_missing_values[1]/(bmi_missing_values[0] + bmi_missing_values[1])*100,3)} % of bmi data is missing')"
   ]
  },
  {
   "cell_type": "code",
   "execution_count": 30,
   "id": "31e95a76-3fc4-4421-ab30-588ccb5b1ee7",
   "metadata": {},
   "outputs": [
    {
     "name": "stdout",
     "output_type": "stream",
     "text": [
      "9.099999999999998\n",
      "47.5\n",
      "21      48.9\n",
      "113     56.6\n",
      "254     50.1\n",
      "258     54.6\n",
      "270     60.9\n",
      "        ... \n",
      "4858    47.6\n",
      "4906    54.1\n",
      "4952    56.6\n",
      "5009    49.5\n",
      "5057    47.6\n",
      "Name: bmi, Length: 110, dtype: float64\n",
      "bmi has 110 outliers \n"
     ]
    },
    {
     "data": {
      "image/png": "[encoded data removed]",
      "text/plain": [
       "<Figure size 800x600 with 1 Axes>"
      ]
     },
     "metadata": {},
     "output_type": "display_data"
    }
   ],
   "source": [
    "Q1 = df['bmi'].quantile(0.25)\n",
    "Q3 = df['bmi'].quantile(0.75)\n",
    "IQR = Q3-Q1\n",
    "\n",
    "lower_bound = Q1 - 1.5 * IQR\n",
    "upper_bound = Q3 + 1.5 * IQR\n",
    "print(lower_bound)\n",
    "print(upper_bound)\n",
    "\n",
    "Outliers_bmi = df[(df['bmi']<lower_bound) | (df['bmi']>upper_bound)]\n",
    "if Outliers_bmi.empty:\n",
    "    print(\"ไม่เจอข้อมูลนอกเกณฑ์ในสดมภ์ bmi\")\n",
    "else:\n",
    "    print(Outliers_bmi['bmi'])\n",
    "plt.figure(figsize=(8,6))\n",
    "sns.boxplot(x=df.bmi)\n",
    "outliers = [val for val in df.bmi if (val < lower_bound or val > upper_bound) ] \n",
    "print(\"bmi doesn't have outliers\") if len(outliers)==0 else print(f\"bmi has {len(outliers)} outliers \")"
   ]
  },
  {
   "cell_type": "code",
   "execution_count": 32,
   "id": "4c716b76-ef6b-44b3-8b76-5d7343905406",
   "metadata": {},
   "outputs": [],
   "source": [
    "# do fill null in bmi with median value\n",
    "median = df.bmi.median()\n",
    "df['bmi'] = df['bmi'].fillna(median)"
   ]
  },
  {
   "cell_type": "code",
   "execution_count": 34,
   "id": "17a61142-4f81-42f3-9253-65e1083c86cc",
   "metadata": {},
   "outputs": [
    {
     "data": {
      "text/plain": [
       "<Axes: xlabel='bmi', ylabel='Count'>"
      ]
     },
     "execution_count": 34,
     "metadata": {},
     "output_type": "execute_result"
    },
    {
     "data": {
      "image/png": "[encoded data removed]",
      "text/plain": [
       "<Figure size 800x600 with 1 Axes>"
      ]
     },
     "metadata": {},
     "output_type": "display_data"
    }
   ],
   "source": [
    "# สร้างฮิสโตแกรม\n",
    "plt.figure(figsize=(8,6))\n",
    "sns.histplot(df.bmi, bins=30, kde=True) "
   ]
  },
  {
   "cell_type": "code",
   "execution_count": 35,
   "id": "b5c29725-3938-4e92-be76-178e801b99dc",
   "metadata": {},
   "outputs": [
    {
     "data": {
      "text/plain": [
       "gender                            0\n",
       "age                               0\n",
       "hypertension                      0\n",
       "heart_disease                     0\n",
       "ever_married                      0\n",
       "Residence_type                    0\n",
       "avg_glucose_level                 0\n",
       "bmi                               0\n",
       "stroke                            0\n",
       "work_type_Govt_job                0\n",
       "work_type_Never_worked            0\n",
       "work_type_Private                 0\n",
       "work_type_Self-employed           0\n",
       "work_type_children                0\n",
       "smoking_status_Unknown            0\n",
       "smoking_status_formerly smoked    0\n",
       "smoking_status_never smoked       0\n",
       "smoking_status_smokes             0\n",
       "dtype: int64"
      ]
     },
     "execution_count": 35,
     "metadata": {},
     "output_type": "execute_result"
    }
   ],
   "source": [
    "df.isnull().sum()"
   ]
  },
  {
   "cell_type": "code",
   "execution_count": 38,
   "id": "ae49d323-c4ad-4a34-a547-9f638c606ef4",
   "metadata": {},
   "outputs": [
    {
     "data": {
      "text/plain": [
       "0"
      ]
     },
     "execution_count": 38,
     "metadata": {},
     "output_type": "execute_result"
    }
   ],
   "source": [
    "df.duplicated().sum()"
   ]
  },
  {
   "cell_type": "code",
   "execution_count": 40,
   "id": "d994fe36-60cb-44b8-8efc-144a8ffb7a3d",
   "metadata": {},
   "outputs": [
    {
     "data": {
      "text/html": [
       "<div>\n",
       "<style scoped>\n",
       "    .dataframe tbody tr th:only-of-type {\n",
       "        vertical-align: middle;\n",
       "    }\n",
       "\n",
       "    .dataframe tbody tr th {\n",
       "        vertical-align: top;\n",
       "    }\n",
       "\n",
       "    .dataframe thead th {\n",
       "        text-align: right;\n",
       "    }\n",
       "</style>\n",
       "<table border=\"1\" class=\"dataframe\">\n",
       "  <thead>\n",
       "    <tr style=\"text-align: right;\">\n",
       "      <th></th>\n",
       "      <th>gender</th>\n",
       "      <th>age</th>\n",
       "      <th>hypertension</th>\n",
       "      <th>heart_disease</th>\n",
       "      <th>ever_married</th>\n",
       "      <th>Residence_type</th>\n",
       "      <th>avg_glucose_level</th>\n",
       "      <th>bmi</th>\n",
       "      <th>stroke</th>\n",
       "      <th>work_type_Govt_job</th>\n",
       "      <th>work_type_Never_worked</th>\n",
       "      <th>work_type_Private</th>\n",
       "      <th>work_type_Self-employed</th>\n",
       "      <th>work_type_children</th>\n",
       "      <th>smoking_status_Unknown</th>\n",
       "      <th>smoking_status_formerly smoked</th>\n",
       "      <th>smoking_status_never smoked</th>\n",
       "      <th>smoking_status_smokes</th>\n",
       "    </tr>\n",
       "  </thead>\n",
       "  <tbody>\n",
       "    <tr>\n",
       "      <th>0</th>\n",
       "      <td>0</td>\n",
       "      <td>67.0</td>\n",
       "      <td>0</td>\n",
       "      <td>1</td>\n",
       "      <td>1</td>\n",
       "      <td>1</td>\n",
       "      <td>228.69</td>\n",
       "      <td>36.6</td>\n",
       "      <td>1</td>\n",
       "      <td>False</td>\n",
       "      <td>False</td>\n",
       "      <td>True</td>\n",
       "      <td>False</td>\n",
       "      <td>False</td>\n",
       "      <td>False</td>\n",
       "      <td>True</td>\n",
       "      <td>False</td>\n",
       "      <td>False</td>\n",
       "    </tr>\n",
       "    <tr>\n",
       "      <th>1</th>\n",
       "      <td>1</td>\n",
       "      <td>61.0</td>\n",
       "      <td>0</td>\n",
       "      <td>0</td>\n",
       "      <td>1</td>\n",
       "      <td>0</td>\n",
       "      <td>202.21</td>\n",
       "      <td>28.1</td>\n",
       "      <td>1</td>\n",
       "      <td>False</td>\n",
       "      <td>False</td>\n",
       "      <td>False</td>\n",
       "      <td>True</td>\n",
       "      <td>False</td>\n",
       "      <td>False</td>\n",
       "      <td>False</td>\n",
       "      <td>True</td>\n",
       "      <td>False</td>\n",
       "    </tr>\n",
       "    <tr>\n",
       "      <th>2</th>\n",
       "      <td>0</td>\n",
       "      <td>80.0</td>\n",
       "      <td>0</td>\n",
       "      <td>1</td>\n",
       "      <td>1</td>\n",
       "      <td>0</td>\n",
       "      <td>105.92</td>\n",
       "      <td>32.5</td>\n",
       "      <td>1</td>\n",
       "      <td>False</td>\n",
       "      <td>False</td>\n",
       "      <td>True</td>\n",
       "      <td>False</td>\n",
       "      <td>False</td>\n",
       "      <td>False</td>\n",
       "      <td>False</td>\n",
       "      <td>True</td>\n",
       "      <td>False</td>\n",
       "    </tr>\n",
       "    <tr>\n",
       "      <th>3</th>\n",
       "      <td>1</td>\n",
       "      <td>49.0</td>\n",
       "      <td>0</td>\n",
       "      <td>0</td>\n",
       "      <td>1</td>\n",
       "      <td>1</td>\n",
       "      <td>171.23</td>\n",
       "      <td>34.4</td>\n",
       "      <td>1</td>\n",
       "      <td>False</td>\n",
       "      <td>False</td>\n",
       "      <td>True</td>\n",
       "      <td>False</td>\n",
       "      <td>False</td>\n",
       "      <td>False</td>\n",
       "      <td>False</td>\n",
       "      <td>False</td>\n",
       "      <td>True</td>\n",
       "    </tr>\n",
       "    <tr>\n",
       "      <th>4</th>\n",
       "      <td>1</td>\n",
       "      <td>79.0</td>\n",
       "      <td>1</td>\n",
       "      <td>0</td>\n",
       "      <td>1</td>\n",
       "      <td>0</td>\n",
       "      <td>174.12</td>\n",
       "      <td>24.0</td>\n",
       "      <td>1</td>\n",
       "      <td>False</td>\n",
       "      <td>False</td>\n",
       "      <td>False</td>\n",
       "      <td>True</td>\n",
       "      <td>False</td>\n",
       "      <td>False</td>\n",
       "      <td>False</td>\n",
       "      <td>True</td>\n",
       "      <td>False</td>\n",
       "    </tr>\n",
       "    <tr>\n",
       "      <th>...</th>\n",
       "      <td>...</td>\n",
       "      <td>...</td>\n",
       "      <td>...</td>\n",
       "      <td>...</td>\n",
       "      <td>...</td>\n",
       "      <td>...</td>\n",
       "      <td>...</td>\n",
       "      <td>...</td>\n",
       "      <td>...</td>\n",
       "      <td>...</td>\n",
       "      <td>...</td>\n",
       "      <td>...</td>\n",
       "      <td>...</td>\n",
       "      <td>...</td>\n",
       "      <td>...</td>\n",
       "      <td>...</td>\n",
       "      <td>...</td>\n",
       "      <td>...</td>\n",
       "    </tr>\n",
       "    <tr>\n",
       "      <th>5105</th>\n",
       "      <td>1</td>\n",
       "      <td>80.0</td>\n",
       "      <td>1</td>\n",
       "      <td>0</td>\n",
       "      <td>1</td>\n",
       "      <td>1</td>\n",
       "      <td>83.75</td>\n",
       "      <td>28.1</td>\n",
       "      <td>0</td>\n",
       "      <td>False</td>\n",
       "      <td>False</td>\n",
       "      <td>True</td>\n",
       "      <td>False</td>\n",
       "      <td>False</td>\n",
       "      <td>False</td>\n",
       "      <td>False</td>\n",
       "      <td>True</td>\n",
       "      <td>False</td>\n",
       "    </tr>\n",
       "    <tr>\n",
       "      <th>5106</th>\n",
       "      <td>1</td>\n",
       "      <td>81.0</td>\n",
       "      <td>0</td>\n",
       "      <td>0</td>\n",
       "      <td>1</td>\n",
       "      <td>1</td>\n",
       "      <td>125.20</td>\n",
       "      <td>40.0</td>\n",
       "      <td>0</td>\n",
       "      <td>False</td>\n",
       "      <td>False</td>\n",
       "      <td>False</td>\n",
       "      <td>True</td>\n",
       "      <td>False</td>\n",
       "      <td>False</td>\n",
       "      <td>False</td>\n",
       "      <td>True</td>\n",
       "      <td>False</td>\n",
       "    </tr>\n",
       "    <tr>\n",
       "      <th>5107</th>\n",
       "      <td>1</td>\n",
       "      <td>35.0</td>\n",
       "      <td>0</td>\n",
       "      <td>0</td>\n",
       "      <td>1</td>\n",
       "      <td>0</td>\n",
       "      <td>82.99</td>\n",
       "      <td>30.6</td>\n",
       "      <td>0</td>\n",
       "      <td>False</td>\n",
       "      <td>False</td>\n",
       "      <td>False</td>\n",
       "      <td>True</td>\n",
       "      <td>False</td>\n",
       "      <td>False</td>\n",
       "      <td>False</td>\n",
       "      <td>True</td>\n",
       "      <td>False</td>\n",
       "    </tr>\n",
       "    <tr>\n",
       "      <th>5108</th>\n",
       "      <td>0</td>\n",
       "      <td>51.0</td>\n",
       "      <td>0</td>\n",
       "      <td>0</td>\n",
       "      <td>1</td>\n",
       "      <td>0</td>\n",
       "      <td>166.29</td>\n",
       "      <td>25.6</td>\n",
       "      <td>0</td>\n",
       "      <td>False</td>\n",
       "      <td>False</td>\n",
       "      <td>True</td>\n",
       "      <td>False</td>\n",
       "      <td>False</td>\n",
       "      <td>False</td>\n",
       "      <td>True</td>\n",
       "      <td>False</td>\n",
       "      <td>False</td>\n",
       "    </tr>\n",
       "    <tr>\n",
       "      <th>5109</th>\n",
       "      <td>1</td>\n",
       "      <td>44.0</td>\n",
       "      <td>0</td>\n",
       "      <td>0</td>\n",
       "      <td>1</td>\n",
       "      <td>1</td>\n",
       "      <td>85.28</td>\n",
       "      <td>26.2</td>\n",
       "      <td>0</td>\n",
       "      <td>True</td>\n",
       "      <td>False</td>\n",
       "      <td>False</td>\n",
       "      <td>False</td>\n",
       "      <td>False</td>\n",
       "      <td>True</td>\n",
       "      <td>False</td>\n",
       "      <td>False</td>\n",
       "      <td>False</td>\n",
       "    </tr>\n",
       "  </tbody>\n",
       "</table>\n",
       "<p>5110 rows × 18 columns</p>\n",
       "</div>"
      ],
      "text/plain": [
       "      gender   age  hypertension  heart_disease  ever_married  Residence_type  \\\n",
       "0          0  67.0             0              1             1               1   \n",
       "1          1  61.0             0              0             1               0   \n",
       "2          0  80.0             0              1             1               0   \n",
       "3          1  49.0             0              0             1               1   \n",
       "4          1  79.0             1              0             1               0   \n",
       "...      ...   ...           ...            ...           ...             ...   \n",
       "5105       1  80.0             1              0             1               1   \n",
       "5106       1  81.0             0              0             1               1   \n",
       "5107       1  35.0             0              0             1               0   \n",
       "5108       0  51.0             0              0             1               0   \n",
       "5109       1  44.0             0              0             1               1   \n",
       "\n",
       "      avg_glucose_level   bmi  stroke  work_type_Govt_job  \\\n",
       "0                228.69  36.6       1               False   \n",
       "1                202.21  28.1       1               False   \n",
       "2                105.92  32.5       1               False   \n",
       "3                171.23  34.4       1               False   \n",
       "4                174.12  24.0       1               False   \n",
       "...                 ...   ...     ...                 ...   \n",
       "5105              83.75  28.1       0               False   \n",
       "5106             125.20  40.0       0               False   \n",
       "5107              82.99  30.6       0               False   \n",
       "5108             166.29  25.6       0               False   \n",
       "5109              85.28  26.2       0                True   \n",
       "\n",
       "      work_type_Never_worked  work_type_Private  work_type_Self-employed  \\\n",
       "0                      False               True                    False   \n",
       "1                      False              False                     True   \n",
       "2                      False               True                    False   \n",
       "3                      False               True                    False   \n",
       "4                      False              False                     True   \n",
       "...                      ...                ...                      ...   \n",
       "5105                   False               True                    False   \n",
       "5106                   False              False                     True   \n",
       "5107                   False              False                     True   \n",
       "5108                   False               True                    False   \n",
       "5109                   False              False                    False   \n",
       "\n",
       "      work_type_children  smoking_status_Unknown  \\\n",
       "0                  False                   False   \n",
       "1                  False                   False   \n",
       "2                  False                   False   \n",
       "3                  False                   False   \n",
       "4                  False                   False   \n",
       "...                  ...                     ...   \n",
       "5105               False                   False   \n",
       "5106               False                   False   \n",
       "5107               False                   False   \n",
       "5108               False                   False   \n",
       "5109               False                    True   \n",
       "\n",
       "      smoking_status_formerly smoked  smoking_status_never smoked  \\\n",
       "0                               True                        False   \n",
       "1                              False                         True   \n",
       "2                              False                         True   \n",
       "3                              False                        False   \n",
       "4                              False                         True   \n",
       "...                              ...                          ...   \n",
       "5105                           False                         True   \n",
       "5106                           False                         True   \n",
       "5107                           False                         True   \n",
       "5108                            True                        False   \n",
       "5109                           False                        False   \n",
       "\n",
       "      smoking_status_smokes  \n",
       "0                     False  \n",
       "1                     False  \n",
       "2                     False  \n",
       "3                      True  \n",
       "4                     False  \n",
       "...                     ...  \n",
       "5105                  False  \n",
       "5106                  False  \n",
       "5107                  False  \n",
       "5108                  False  \n",
       "5109                  False  \n",
       "\n",
       "[5110 rows x 18 columns]"
      ]
     },
     "execution_count": 40,
     "metadata": {},
     "output_type": "execute_result"
    }
   ],
   "source": [
    "df.drop_duplicates()"
   ]
  },
  {
   "cell_type": "code",
   "execution_count": 42,
   "id": "5aeae1e6-d719-486c-bb94-ec5fd0eceffa",
   "metadata": {},
   "outputs": [
    {
     "name": "stdout",
     "output_type": "stream",
     "text": [
      "      Original  Winsorized\n",
      "21        48.9        42.7\n",
      "113       56.6        42.7\n",
      "254       50.1        42.7\n",
      "258       54.6        42.7\n",
      "270       60.9        42.7\n",
      "...        ...         ...\n",
      "4858      47.6        42.7\n",
      "4906      54.1        42.7\n",
      "4952      56.6        42.7\n",
      "5009      49.5        42.7\n",
      "5057      47.6        42.7\n",
      "\n",
      "[110 rows x 2 columns]\n"
     ]
    }
   ],
   "source": [
    "# ทำการ Winsorisation\n",
    "Outliers_cleansing = winsorize(df['bmi'], limits = (0.05, 0.05))\n",
    "replace_value = pd.DataFrame({\n",
    "    'Original': df.loc[Outliers_bmi.index, 'bmi'],\n",
    "    'Winsorized': Outliers_cleansing[Outliers_bmi.index]\n",
    "})\n",
    "print(replace_value)\n",
    "\n",
    "df['bmi'] = Outliers_cleansing"
   ]
  },
  {
   "cell_type": "code",
   "execution_count": 44,
   "id": "5c79a936-a4b1-46e7-b198-96d994bad103",
   "metadata": {},
   "outputs": [
    {
     "name": "stdout",
     "output_type": "stream",
     "text": [
      "bmi doesn't have outliers\n"
     ]
    },
    {
     "data": {
      "image/png": "[encoded data removed]",
      "text/plain": [
       "<Figure size 800x600 with 1 Axes>"
      ]
     },
     "metadata": {},
     "output_type": "display_data"
    }
   ],
   "source": [
    "plt.figure(figsize=(8,6))\n",
    "sns.boxplot(x=df.bmi)\n",
    "outliers = [val for val in df.bmi if (val < lower_bound or val > upper_bound) ] \n",
    "print(\"bmi doesn't have outliers\") if len(outliers)==0 else print(f\"bmi has {len(outliers)} outliers \")"
   ]
  },
  {
   "cell_type": "code",
   "execution_count": 46,
   "id": "0dda37e6-88af-4313-bbbe-3f5ca63e1d1c",
   "metadata": {},
   "outputs": [
    {
     "name": "stdout",
     "output_type": "stream",
     "text": [
      "21.977500000000006\n",
      "169.35750000000002\n",
      "21      233.29\n",
      "113     224.10\n",
      "254     210.95\n",
      "258     205.84\n",
      "270     129.54\n",
      "         ...  \n",
      "4858    100.88\n",
      "4906     70.51\n",
      "4952    211.83\n",
      "5009    126.85\n",
      "5057     69.92\n",
      "Name: avg_glucose_level, Length: 110, dtype: float64\n",
      "avg_glucose_level has 874 outliers \n"
     ]
    },
    {
     "data": {
      "image/png": "[encoded data removed]",
      "text/plain": [
       "<Figure size 800x600 with 1 Axes>"
      ]
     },
     "metadata": {},
     "output_type": "display_data"
    }
   ],
   "source": [
    "Q1 = df['avg_glucose_level'].quantile(0.25)\n",
    "Q3 = df['avg_glucose_level'].quantile(0.75)\n",
    "IQR = Q3-Q1\n",
    "\n",
    "lower_bound = Q1 - 1.5 * IQR\n",
    "upper_bound = Q3 + 1.5 * IQR\n",
    "print(lower_bound)\n",
    "print(upper_bound)\n",
    "\n",
    "Outliers_avg_glucose_level = df[(df['avg_glucose_level']<lower_bound) | (df['avg_glucose_level']>upper_bound)]\n",
    "if Outliers_avg_glucose_level.empty:\n",
    "    print(\"ไม่เจอข้อมูลนอกเกณฑ์ในสดมภ์ avg_glucose_level\")\n",
    "else:\n",
    "    print(Outliers_bmi['avg_glucose_level'])\n",
    "plt.figure(figsize=(8,6))\n",
    "sns.boxplot(x=df.bmi)\n",
    "outliers = [val for val in df.bmi if (val < lower_bound or val > upper_bound) ] \n",
    "print(\"avg_glucose_level doesn't have outliers\") if len(outliers)==0 else print(f\"avg_glucose_level has {len(outliers)} outliers \")"
   ]
  },
  {
   "cell_type": "code",
   "execution_count": 48,
   "id": "d5d7386f-fd2c-45e3-a94e-063bdf6590a8",
   "metadata": {},
   "outputs": [
    {
     "name": "stdout",
     "output_type": "stream",
     "text": [
      "      Original  Winsorized\n",
      "21      233.29      216.38\n",
      "113     224.10      216.38\n",
      "254     210.95      210.95\n",
      "258     205.84      205.84\n",
      "270     129.54      129.54\n",
      "...        ...         ...\n",
      "4858    100.88      100.88\n",
      "4906     70.51       70.51\n",
      "4952    211.83      211.83\n",
      "5009    126.85      126.85\n",
      "5057     69.92       69.92\n",
      "\n",
      "[110 rows x 2 columns]\n"
     ]
    }
   ],
   "source": [
    "# ทำการ Winsorisation\n",
    "Outliers_cleansing = winsorize(df['avg_glucose_level'], limits = (0.05, 0.05))\n",
    "replace_value = pd.DataFrame({\n",
    "    'Original': df.loc[Outliers_bmi.index, 'avg_glucose_level'],\n",
    "    'Winsorized': Outliers_cleansing[Outliers_bmi.index]\n",
    "})\n",
    "print(replace_value)\n",
    "\n",
    "df['avg_glucose_level'] = Outliers_cleansing"
   ]
  },
  {
   "cell_type": "code",
   "execution_count": 50,
   "id": "b87ca6ce-6889-4171-b311-b77ca9c3f812",
   "metadata": {},
   "outputs": [
    {
     "name": "stdout",
     "output_type": "stream",
     "text": [
      "avg_glucose_level has 874 outliers \n"
     ]
    },
    {
     "data": {
      "image/png": "[encoded data removed]",
      "text/plain": [
       "<Figure size 800x600 with 1 Axes>"
      ]
     },
     "metadata": {},
     "output_type": "display_data"
    }
   ],
   "source": [
    "plt.figure(figsize=(8,6))\n",
    "sns.boxplot(x=df.bmi)\n",
    "outliers = [val for val in df.bmi if (val < lower_bound or val > upper_bound) ] \n",
    "print(\"avg_glucose_level doesn't have outliers\") if len(outliers)==0 else print(f\"avg_glucose_level has {len(outliers)} outliers \")"
   ]
  },
  {
   "cell_type": "code",
   "execution_count": 52,
   "id": "5fa4d782-81ed-4bed-95d9-dab64f98e9cb",
   "metadata": {},
   "outputs": [],
   "source": [
    "# X,Y Train test split\n",
    "X = df.drop('stroke',axis='columns')\n",
    "y = testLabels = df.stroke.astype(np.float32)\n",
    "\n",
    "from sklearn.model_selection import train_test_split\n",
    "X_train, X_test, y_train, y_test = train_test_split(X, y, test_size=0.3, random_state=15, stratify=y)"
   ]
  },
  {
   "cell_type": "code",
   "execution_count": 58,
   "id": "29a22946-2376-42ad-8578-826ac6f458cc",
   "metadata": {},
   "outputs": [
    {
     "name": "stdout",
     "output_type": "stream",
     "text": [
      "Collecting torch\n",
      "  Downloading torch-2.5.1-cp312-none-macosx_11_0_arm64.whl.metadata (28 kB)\n",
      "Requirement already satisfied: filelock in /opt/anaconda3/lib/python3.12/site-packages (from torch) (3.13.1)\n",
      "Requirement already satisfied: typing-extensions>=4.8.0 in /opt/anaconda3/lib/python3.12/site-packages (from torch) (4.11.0)\n",
      "Requirement already satisfied: networkx in /opt/anaconda3/lib/python3.12/site-packages (from torch) (3.2.1)\n",
      "Requirement already satisfied: jinja2 in /opt/anaconda3/lib/python3.12/site-packages (from torch) (3.1.4)\n",
      "Requirement already satisfied: fsspec in /opt/anaconda3/lib/python3.12/site-packages (from torch) (2024.3.1)\n",
      "Requirement already satisfied: setuptools in /opt/anaconda3/lib/python3.12/site-packages (from torch) (75.1.0)\n",
      "Collecting sympy==1.13.1 (from torch)\n",
      "  Downloading sympy-1.13.1-py3-none-any.whl.metadata (12 kB)\n",
      "Requirement already satisfied: mpmath<1.4,>=1.1.0 in /opt/anaconda3/lib/python3.12/site-packages (from sympy==1.13.1->torch) (1.3.0)\n",
      "Requirement already satisfied: MarkupSafe>=2.0 in /opt/anaconda3/lib/python3.12/site-packages (from jinja2->torch) (2.1.3)\n",
      "Downloading torch-2.5.1-cp312-none-macosx_11_0_arm64.whl (63.9 MB)\n",
      "\u001b[2K   \u001b[90m━━━━━━━━━━━━━━━━━━━━━━━━━━━━━━━━━━━━━━━━\u001b[0m \u001b[32m63.9/63.9 MB\u001b[0m \u001b[31m5.0 MB/s\u001b[0m eta \u001b[36m0:00:00\u001b[0m00:01\u001b[0m00:01\u001b[0m\n",
      "\u001b[?25hDownloading sympy-1.13.1-py3-none-any.whl (6.2 MB)\n",
      "\u001b[2K   \u001b[90m━━━━━━━━━━━━━━━━━━━━━━━━━━━━━━━━━━━━━━━━\u001b[0m \u001b[32m6.2/6.2 MB\u001b[0m \u001b[31m5.2 MB/s\u001b[0m eta \u001b[36m0:00:00\u001b[0ma \u001b[36m0:00:01\u001b[0m\n",
      "\u001b[?25hInstalling collected packages: sympy, torch\n",
      "  Attempting uninstall: sympy\n",
      "    Found existing installation: sympy 1.12\n",
      "    Uninstalling sympy-1.12:\n",
      "      Successfully uninstalled sympy-1.12\n",
      "Successfully installed sympy-1.13.1 torch-2.5.1\n",
      "\n",
      "\u001b[1m[\u001b[0m\u001b[34;49mnotice\u001b[0m\u001b[1;39;49m]\u001b[0m\u001b[39;49m A new release of pip is available: \u001b[0m\u001b[31;49m24.2\u001b[0m\u001b[39;49m -> \u001b[0m\u001b[32;49m24.3.1\u001b[0m\n",
      "\u001b[1m[\u001b[0m\u001b[34;49mnotice\u001b[0m\u001b[1;39;49m]\u001b[0m\u001b[39;49m To update, run: \u001b[0m\u001b[32;49mpip install --upgrade pip\u001b[0m\n"
     ]
    }
   ],
   "source": [
    "!pip install torch"
   ]
  },
  {
   "cell_type": "code",
   "execution_count": 59,
   "id": "fdb602b2-e55d-40ea-8fe8-9c20ceef2134",
   "metadata": {
    "scrolled": true
   },
   "outputs": [],
   "source": [
    "import torch\n",
    "import torch.nn as nn\n",
    "\n",
    "class Generator(nn.Module):\n",
    "    def __init__(self, input_dim, label_dim, output_dim):\n",
    "        super(Generator, self).__init__()\n",
    "        self.label_embed = nn.Embedding(label_dim, label_dim)\n",
    "        self.model = nn.Sequential(\n",
    "            nn.Linear(input_dim + label_dim, 128),\n",
    "            nn.LeakyReLU(0.2),\n",
    "            nn.Linear(128, 256),\n",
    "            nn.BatchNorm1d(256),\n",
    "            nn.LeakyReLU(0.2),\n",
    "            nn.Linear(256, 512),\n",
    "            nn.BatchNorm1d(512),\n",
    "            nn.LeakyReLU(0.2),\n",
    "            nn.Linear(512, output_dim),\n",
    "            nn.Tanh()\n",
    "        )\n",
    "\n",
    "    def forward(self, noise, labels):\n",
    "        label_input = self.label_embed(labels)\n",
    "        gen_input = torch.cat((noise, label_input), -1)\n",
    "        return self.model(gen_input)\n",
    "\n",
    "class Discriminator(nn.Module):\n",
    "    def __init__(self, output_dim, label_dim):\n",
    "        super(Discriminator, self).__init__()\n",
    "        self.label_embed = nn.Embedding(label_dim, label_dim)\n",
    "        self.model = nn.Sequential(\n",
    "            nn.Linear(output_dim + label_dim, 512),\n",
    "            nn.LeakyReLU(0.2),\n",
    "            nn.Linear(512, 256),\n",
    "            nn.LeakyReLU(0.2),\n",
    "            nn.Linear(256, 1),\n",
    "            nn.Sigmoid()\n",
    "        )\n",
    "\n",
    "    def forward(self, data, labels):\n",
    "        label_input = self.label_embed(labels)\n",
    "        disc_input = torch.cat((data, label_input), -1)\n",
    "        return self.model(disc_input)\n"
   ]
  },
  {
   "cell_type": "code",
   "execution_count": 62,
   "id": "b0c79a4d-1e67-46d9-97e0-7862a9a61dde",
   "metadata": {
    "scrolled": true
   },
   "outputs": [
    {
     "name": "stdout",
     "output_type": "stream",
     "text": [
      "Epoch 0/100 | D Loss: 0.0706484243273735 | G Loss: 2.257260322570801\n",
      "Epoch 1/100 | D Loss: 0.011117364279925823 | G Loss: 4.325115203857422\n",
      "Epoch 2/100 | D Loss: 0.004052421078085899 | G Loss: 5.298386096954346\n",
      "Epoch 3/100 | D Loss: 0.0026131023187190294 | G Loss: 5.725085258483887\n",
      "Epoch 4/100 | D Loss: 0.001925976132042706 | G Loss: 5.827442169189453\n",
      "Epoch 5/100 | D Loss: 0.0010978268692269921 | G Loss: 6.486337184906006\n",
      "Epoch 6/100 | D Loss: 0.0005848646396771073 | G Loss: 7.242724418640137\n",
      "Epoch 7/100 | D Loss: 0.0005761811044067144 | G Loss: 7.102583408355713\n",
      "Epoch 8/100 | D Loss: 0.0003603049262892455 | G Loss: 7.664567947387695\n",
      "Epoch 9/100 | D Loss: 0.0002761023642960936 | G Loss: 7.909163951873779\n",
      "Epoch 10/100 | D Loss: 0.00023334225988946855 | G Loss: 8.086410522460938\n",
      "Epoch 11/100 | D Loss: 0.0002073931973427534 | G Loss: 8.158733367919922\n",
      "Epoch 12/100 | D Loss: 0.00014196957636158913 | G Loss: 8.53982162475586\n",
      "Epoch 13/100 | D Loss: 0.00013179979578126222 | G Loss: 8.65616226196289\n",
      "Epoch 14/100 | D Loss: 0.00011002046812791377 | G Loss: 8.82624626159668\n",
      "Epoch 15/100 | D Loss: 9.598201722837985e-05 | G Loss: 8.955074310302734\n",
      "Epoch 16/100 | D Loss: 0.00010337198182241991 | G Loss: 8.777995109558105\n",
      "Epoch 17/100 | D Loss: 5.775569661636837e-05 | G Loss: 9.522928237915039\n",
      "Epoch 18/100 | D Loss: 8.544490992790088e-05 | G Loss: 8.92784595489502\n",
      "Epoch 19/100 | D Loss: 5.197981226956472e-05 | G Loss: 9.60866928100586\n",
      "Epoch 20/100 | D Loss: 4.685159001382999e-05 | G Loss: 9.69572925567627\n",
      "Epoch 21/100 | D Loss: 4.35430629295297e-05 | G Loss: 9.755372047424316\n",
      "Epoch 22/100 | D Loss: 4.372101466287859e-05 | G Loss: 9.730308532714844\n",
      "Epoch 23/100 | D Loss: 3.477965947240591e-05 | G Loss: 9.915376663208008\n",
      "Epoch 24/100 | D Loss: 2.481216324667912e-05 | G Loss: 10.379376411437988\n",
      "Epoch 25/100 | D Loss: 2.611582021927461e-05 | G Loss: 10.285848617553711\n",
      "Epoch 26/100 | D Loss: 2.4360530005651526e-05 | G Loss: 10.351409912109375\n",
      "Epoch 27/100 | D Loss: 1.975603481696453e-05 | G Loss: 10.559745788574219\n",
      "Epoch 28/100 | D Loss: 2.326808862562757e-05 | G Loss: 10.332218170166016\n",
      "Epoch 29/100 | D Loss: 1.967094067367725e-05 | G Loss: 10.70051383972168\n",
      "Epoch 30/100 | D Loss: 1.6951787983998656e-05 | G Loss: 10.7172269821167\n",
      "Epoch 31/100 | D Loss: 1.3437344932754058e-05 | G Loss: 11.007221221923828\n",
      "Epoch 32/100 | D Loss: 1.454379344068002e-05 | G Loss: 10.809556007385254\n",
      "Epoch 33/100 | D Loss: 1.3649475476995576e-05 | G Loss: 10.884693145751953\n",
      "Epoch 34/100 | D Loss: 1.268970845558215e-05 | G Loss: 10.982802391052246\n",
      "Epoch 35/100 | D Loss: 8.870347301126458e-06 | G Loss: 11.378252029418945\n",
      "Epoch 36/100 | D Loss: 9.53231574385427e-06 | G Loss: 11.292959213256836\n",
      "Epoch 37/100 | D Loss: 1.0823624506883789e-05 | G Loss: 11.108681678771973\n",
      "Epoch 38/100 | D Loss: 7.41903795642429e-06 | G Loss: 11.468106269836426\n",
      "Epoch 39/100 | D Loss: 8.021297617233358e-06 | G Loss: 11.468378067016602\n",
      "Epoch 40/100 | D Loss: 6.539106834679842e-06 | G Loss: 11.665637016296387\n",
      "Epoch 41/100 | D Loss: 5.67638971915585e-06 | G Loss: 11.702834129333496\n",
      "Epoch 42/100 | D Loss: 7.860656296543311e-06 | G Loss: 11.308082580566406\n",
      "Epoch 43/100 | D Loss: 5.963144758425187e-06 | G Loss: 11.614969253540039\n",
      "Epoch 44/100 | D Loss: 5.986191354168113e-06 | G Loss: 11.64364242553711\n",
      "Epoch 45/100 | D Loss: 4.479582912608748e-06 | G Loss: 11.939537048339844\n",
      "Epoch 46/100 | D Loss: 5.156449333298951e-06 | G Loss: 11.797820091247559\n",
      "Epoch 47/100 | D Loss: 4.873507350566797e-06 | G Loss: 11.832066535949707\n",
      "Epoch 48/100 | D Loss: 4.931318471790291e-06 | G Loss: 11.7551908493042\n",
      "Epoch 49/100 | D Loss: 4.528469162323745e-06 | G Loss: 11.860173225402832\n",
      "Epoch 50/100 | D Loss: 3.2367609037464717e-06 | G Loss: 12.223527908325195\n",
      "Epoch 51/100 | D Loss: 3.735870677701314e-06 | G Loss: 12.093476295471191\n",
      "Epoch 52/100 | D Loss: 3.3480150705145206e-06 | G Loss: 12.208159446716309\n",
      "Epoch 53/100 | D Loss: 2.730800360950525e-06 | G Loss: 12.469856262207031\n",
      "Epoch 54/100 | D Loss: 3.1400832085637376e-06 | G Loss: 12.188549041748047\n",
      "Epoch 55/100 | D Loss: 2.7324933853378752e-06 | G Loss: 12.442553520202637\n",
      "Epoch 56/100 | D Loss: 2.9689472285099328e-06 | G Loss: 12.190812110900879\n",
      "Epoch 57/100 | D Loss: 2.3084317035682034e-06 | G Loss: 12.609569549560547\n",
      "Epoch 58/100 | D Loss: 2.035574652836658e-06 | G Loss: 12.722617149353027\n",
      "Epoch 59/100 | D Loss: 2.215755330325919e-06 | G Loss: 12.557442665100098\n",
      "Epoch 60/100 | D Loss: 2.201493543907418e-06 | G Loss: 12.561209678649902\n",
      "Epoch 61/100 | D Loss: 1.6643364233459579e-06 | G Loss: 12.899932861328125\n",
      "Epoch 62/100 | D Loss: 1.7006939287966816e-06 | G Loss: 12.846726417541504\n",
      "Epoch 63/100 | D Loss: 1.6386070456064772e-06 | G Loss: 12.93469524383545\n",
      "Epoch 64/100 | D Loss: 1.0243639962936868e-06 | G Loss: 13.393022537231445\n",
      "Epoch 65/100 | D Loss: 1.3651151675730944e-06 | G Loss: 13.03845500946045\n",
      "Epoch 66/100 | D Loss: 1.069663653652242e-06 | G Loss: 13.281506538391113\n",
      "Epoch 67/100 | D Loss: 1.1787346920755226e-06 | G Loss: 13.157909393310547\n",
      "Epoch 68/100 | D Loss: 1.300940198234457e-06 | G Loss: 13.099780082702637\n",
      "Epoch 69/100 | D Loss: 8.991379445433267e-07 | G Loss: 13.502930641174316\n",
      "Epoch 70/100 | D Loss: 8.683322789693193e-07 | G Loss: 13.553937911987305\n",
      "Epoch 71/100 | D Loss: 9.130879448093765e-07 | G Loss: 13.514913558959961\n",
      "Epoch 72/100 | D Loss: 8.213051501115842e-07 | G Loss: 13.617934226989746\n",
      "Epoch 73/100 | D Loss: 9.591408343112562e-07 | G Loss: 13.346675872802734\n",
      "Epoch 74/100 | D Loss: 5.979906632092025e-07 | G Loss: 13.973167419433594\n",
      "Epoch 75/100 | D Loss: 6.510167622764129e-07 | G Loss: 13.800928115844727\n",
      "Epoch 76/100 | D Loss: 6.42507700376882e-07 | G Loss: 13.935136795043945\n",
      "Epoch 77/100 | D Loss: 4.0736688333709026e-07 | G Loss: 14.295154571533203\n",
      "Epoch 78/100 | D Loss: 5.204460649110842e-07 | G Loss: 14.04262924194336\n",
      "Epoch 79/100 | D Loss: 4.622076801297226e-07 | G Loss: 14.176980018615723\n",
      "Epoch 80/100 | D Loss: 3.6578074968929286e-07 | G Loss: 14.433899879455566\n",
      "Epoch 81/100 | D Loss: 5.362022648114362e-07 | G Loss: 14.112154960632324\n",
      "Epoch 82/100 | D Loss: 4.350231961325335e-07 | G Loss: 14.199688911437988\n",
      "Epoch 83/100 | D Loss: 4.1188860677721095e-07 | G Loss: 14.284201622009277\n",
      "Epoch 84/100 | D Loss: 3.3813989830377977e-07 | G Loss: 14.498529434204102\n",
      "Epoch 85/100 | D Loss: 3.0427247565967264e-07 | G Loss: 14.590873718261719\n",
      "Epoch 86/100 | D Loss: 3.053141597320064e-07 | G Loss: 14.621664047241211\n",
      "Epoch 87/100 | D Loss: 3.086303763666365e-07 | G Loss: 14.61697769165039\n",
      "Epoch 88/100 | D Loss: 1.9464522438283893e-07 | G Loss: 15.040968894958496\n",
      "Epoch 89/100 | D Loss: 2.43218295281622e-07 | G Loss: 14.687507629394531\n",
      "Epoch 90/100 | D Loss: 2.728058348111517e-07 | G Loss: 14.719948768615723\n",
      "Epoch 91/100 | D Loss: 2.5838437522907043e-07 | G Loss: 14.70477294921875\n",
      "Epoch 92/100 | D Loss: 1.7845898980795027e-07 | G Loss: 15.109502792358398\n",
      "Epoch 93/100 | D Loss: 2.2322416270981194e-07 | G Loss: 14.901751518249512\n",
      "Epoch 94/100 | D Loss: 1.9209164747735485e-07 | G Loss: 14.978809356689453\n",
      "Epoch 95/100 | D Loss: 2.2498039697893546e-07 | G Loss: 14.791848182678223\n",
      "Epoch 96/100 | D Loss: 1.8464508855231543e-07 | G Loss: 15.098384857177734\n",
      "Epoch 97/100 | D Loss: 1.7878016933536856e-07 | G Loss: 15.121891975402832\n",
      "Epoch 98/100 | D Loss: 1.324443559269639e-07 | G Loss: 15.454174041748047\n",
      "Epoch 99/100 | D Loss: 1.5658295637877018e-07 | G Loss: 15.218719482421875\n"
     ]
    }
   ],
   "source": [
    "import torch\n",
    "import torch.nn as nn\n",
    "import torch.optim as optim\n",
    "import numpy as np\n",
    "from torch.utils.data import DataLoader, TensorDataset\n",
    "import pandas as pd\n",
    "\n",
    "# ตรวจสอบและแปลงข้อมูลที่เป็น categorical ให้เป็นตัวเลข\n",
    "X_train = pd.get_dummies(X_train)  # แปลงข้อมูลที่เป็น string หรือ categorical ให้เป็นตัวเลข\n",
    "X_test = pd.get_dummies(X_test)\n",
    "\n",
    "# ตรวจสอบให้แน่ใจว่า X_train และ X_test มีคอลัมน์ที่สอดคล้องกัน\n",
    "X_train, X_test = X_train.align(X_test, join='left', axis=1, fill_value=0)\n",
    "\n",
    "# แก้ไข missing values ถ้ามี\n",
    "X_train.fillna(0, inplace=True)\n",
    "X_test.fillna(0, inplace=True)\n",
    "\n",
    "# Initial parameters\n",
    "device = torch.device(\"cpu\")  # ใช้ CPU สำหรับการฝึก\n",
    "input_dim = 100  # Noise dimension\n",
    "output_dim = X_train.shape[1]  # Adjust to match the number of features\n",
    "label_dim = 2  # Binary classification\n",
    "\n",
    "# Create and initialize models\n",
    "generator = Generator(input_dim, label_dim, output_dim).to(device)\n",
    "discriminator = Discriminator(output_dim, label_dim).to(device)\n",
    "adversarial_loss = nn.BCELoss()\n",
    "optimizer_G = optim.Adam(generator.parameters(), lr=0.0002, betas=(0.5, 0.999))\n",
    "optimizer_D = optim.Adam(discriminator.parameters(), lr=0.0002, betas=(0.5, 0.999))\n",
    "\n",
    "# Convert training data to Tensor and DataLoader\n",
    "X_train_tensor = torch.tensor(X_train.values.astype(np.float32))  # แปลงเป็น float32\n",
    "y_train_tensor = torch.tensor(y_train.values.astype(np.float32))  # แปลงเป็น float32\n",
    "train_dataset = TensorDataset(X_train_tensor, y_train_tensor)\n",
    "train_loader = DataLoader(train_dataset, batch_size=32, shuffle=True)\n",
    "\n",
    "# Function to train the CSAGAN\n",
    "def train_gan(data_loader, epochs, generator, discriminator, optimizer_G, optimizer_D, adversarial_loss, device):\n",
    "    for epoch in range(epochs):\n",
    "        for i, (real_samples, labels) in enumerate(data_loader):\n",
    "            real_samples, labels = real_samples.to(device), labels.long().to(device)\n",
    "            batch_size = real_samples.size(0)\n",
    "\n",
    "            # Ground truths\n",
    "            valid = torch.ones((batch_size, 1), requires_grad=False).to(device)\n",
    "            fake = torch.zeros((batch_size, 1), requires_grad=False).to(device)\n",
    "\n",
    "            # Train Generator\n",
    "            optimizer_G.zero_grad()\n",
    "            z = torch.randn(batch_size, input_dim).to(device)\n",
    "            gen_labels = torch.randint(0, label_dim, (batch_size,)).long().to(device)\n",
    "            gen_samples = generator(z, gen_labels)\n",
    "\n",
    "            validity = discriminator(gen_samples, gen_labels)\n",
    "            g_loss = adversarial_loss(validity, valid)\n",
    "            g_loss.backward()\n",
    "            optimizer_G.step()\n",
    "\n",
    "            # Train Discriminator\n",
    "            optimizer_D.zero_grad()\n",
    "            real_pred = discriminator(real_samples, labels)\n",
    "            d_real_loss = adversarial_loss(real_pred, valid)\n",
    "\n",
    "            fake_pred = discriminator(gen_samples.detach(), gen_labels)\n",
    "            d_fake_loss = adversarial_loss(fake_pred, fake)\n",
    "\n",
    "            d_loss = (d_real_loss + d_fake_loss) / 2\n",
    "            d_loss.backward()\n",
    "            optimizer_D.step()\n",
    "\n",
    "        print(f\"Epoch {epoch}/{epochs} | D Loss: {d_loss.item()} | G Loss: {g_loss.item()}\")\n",
    "\n",
    "    return gen_samples  # Return generated samples at the end of training\n",
    "\n",
    "# Train CSAGAN model and generate synthetic data\n",
    "epochs = 100  # Number of training epochs\n",
    "generated_data = train_gan(train_loader, epochs, generator, discriminator, optimizer_G, optimizer_D, adversarial_loss, device)\n",
    "\n",
    "# Convert the generated data back to numpy array\n",
    "generated_data = generated_data.detach().cpu().numpy()\n",
    "\n",
    "# Combine generated data with original training data\n",
    "X_train_combined = np.vstack((X_train.values, generated_data))  # รวมข้อมูล X_train กับ generated_data\n",
    "y_train_combined = np.hstack((y_train.values, np.ones(generated_data.shape[0])))  # ตั้งให้ข้อมูลที่สร้างขึ้นเป็น class 1 (สมมติว่ามันมาจาก minority class)\n"
   ]
  },
  {
   "cell_type": "code",
   "execution_count": 64,
   "id": "7cd7c450-1da8-49a9-9819-a8cd13e5f2e7",
   "metadata": {},
   "outputs": [
    {
     "data": {
      "text/plain": [
       "(3602, 17)"
      ]
     },
     "execution_count": 64,
     "metadata": {},
     "output_type": "execute_result"
    }
   ],
   "source": [
    "X_train_combined.shape"
   ]
  },
  {
   "cell_type": "code",
   "execution_count": 80,
   "id": "996425c1-c2b9-42e3-81e7-3815b4cb9412",
   "metadata": {},
   "outputs": [],
   "source": [
    "import matplotlib.pyplot as plt\n",
    "from sklearn.metrics import confusion_matrix, classification_report, accuracy_score, precision_score, recall_score, roc_auc_score, roc_curve\n",
    "# Prepare function for model evaluation\n",
    "def evaluate_model(model_name, y_val, y_pred, y_prob):\n",
    "    # Print confusion matrix and classification report\n",
    "    print(\"Confusion Matrix:\")\n",
    "    print(confusion_matrix(y_val, y_pred))\n",
    "    \n",
    "    print(\"\\nClassification Report:\")\n",
    "    print(classification_report(y_val, y_pred))\n",
    "    \n",
    "    # Calculate metrics\n",
    "    accuracy = accuracy_score(y_val, y_pred)\n",
    "    precision = precision_score(y_val, y_pred)\n",
    "    recall = recall_score(y_val, y_pred)\n",
    "    auc = roc_auc_score(y_val, y_prob)\n",
    "    \n",
    "    print(f\"Accuracy: {accuracy:.4f}\")\n",
    "    print(f\"Precision: {precision:.4f}\")\n",
    "    print(f\"Recall: {recall:.4f}\")\n",
    "    print(f\"AUC: {auc:.4f}\")\n",
    "    \n",
    "    # Plot ROC Curve\n",
    "    fpr, tpr, _ = roc_curve(y_val, y_prob)\n",
    "    plt.figure()\n",
    "    plt.plot(fpr, tpr, label=f'{model_name} ROC curve (AUC = {auc:.4f})')\n",
    "    plt.plot([0, 1], [0, 1], linestyle='--')\n",
    "    plt.xlabel('False Positive Rate')\n",
    "    plt.ylabel('True Positive Rate')\n",
    "    plt.title(f'{model_name} ROC Curve')\n",
    "    plt.legend(loc='lower right')\n",
    "    plt.show()\n",
    "    \n",
    "    return accuracy, precision, recall, auc"
   ]
  },
  {
   "cell_type": "code",
   "execution_count": 82,
   "id": "da9a9883-c6f6-4bbd-8c04-b14170da17a2",
   "metadata": {},
   "outputs": [
    {
     "name": "stdout",
     "output_type": "stream",
     "text": [
      "Confusion Matrix:\n",
      "[[959   1]\n",
      " [ 59   3]]\n",
      "\n",
      "Classification Report:\n",
      "              precision    recall  f1-score   support\n",
      "\n",
      "         0.0       0.94      1.00      0.97       960\n",
      "         1.0       0.75      0.05      0.09        62\n",
      "\n",
      "    accuracy                           0.94      1022\n",
      "   macro avg       0.85      0.52      0.53      1022\n",
      "weighted avg       0.93      0.94      0.92      1022\n",
      "\n",
      "Accuracy: 0.9413\n",
      "Precision: 0.7500\n",
      "Recall: 0.0484\n",
      "AUC: 0.8162\n"
     ]
    },
    {
     "data": {
      "image/png": "[encoded data removed]",
      "text/plain": [
       "<Figure size 640x480 with 1 Axes>"
      ]
     },
     "metadata": {},
     "output_type": "display_data"
    },
    {
     "data": {
      "image/png": "[encoded data removed]",
      "text/plain": [
       "<Figure size 640x480 with 2 Axes>"
      ]
     },
     "metadata": {},
     "output_type": "display_data"
    },
    {
     "name": "stdout",
     "output_type": "stream",
     "text": [
      "Best parameters found by GridSearchCV for KNN:\n",
      "{'knn__metric': 'manhattan', 'knn__n_neighbors': 9, 'knn__weights': 'uniform'}\n"
     ]
    }
   ],
   "source": [
    "from sklearn.neighbors import KNeighborsClassifier\n",
    "from sklearn.model_selection import GridSearchCV\n",
    "from sklearn.preprocessing import StandardScaler\n",
    "from sklearn.pipeline import Pipeline\n",
    "import matplotlib.pyplot as plt\n",
    "from sklearn.metrics import confusion_matrix, ConfusionMatrixDisplay, classification_report\n",
    "# Define the parameter grid for KNN\n",
    "param_grid_knn = {\n",
    "    'knn__n_neighbors': [3, 5, 7, 9,],       # Number of neighbors to use\n",
    "    'knn__weights': ['uniform', 'distance'],  # Weight function used in prediction\n",
    "    'knn__metric': ['euclidean', 'manhattan']  # Distance metric\n",
    "}\n",
    "\n",
    "# Create a pipeline to scale the data and apply KNN\n",
    "pipeline = Pipeline([\n",
    "    ('scaler', StandardScaler()),            # Step to scale the data\n",
    "    ('knn', KNeighborsClassifier())          # KNeighborsClassifier model\n",
    "])\n",
    "\n",
    "# GridSearchCV with pipeline for KNN\n",
    "grid_search_knn = GridSearchCV(pipeline, param_grid_knn, cv=5, scoring='accuracy', n_jobs=-1)\n",
    "\n",
    "# Fit the model with scaled data\n",
    "grid_search_knn.fit(X_train_combined, y_train_combined)\n",
    "\n",
    "# Predict and evaluate KNN\n",
    "knn_best = grid_search_knn.best_estimator_\n",
    "y_pred_knn = knn_best.predict(X_test)\n",
    "y_prob_knn = knn_best.predict_proba(X_test)[:, 1]\n",
    "\n",
    "# Print metrics (Assuming the same print_metrics function exists)\n",
    "evaluate_model(\"KNN\", y_test, y_pred_knn, y_prob_knn)\n",
    "\n",
    "# Generate the confusion matrix\n",
    "conf_matrix = confusion_matrix(y_test, y_pred_knn)\n",
    "\n",
    "# Create a ConfusionMatrixDisplay with a custom color map (cmap)\n",
    "disp = ConfusionMatrixDisplay(conf_matrix)\n",
    "\n",
    "# Plot the confusion matrix with a specific colormap, e.g., 'Blues'\n",
    "disp.plot(cmap=plt.cm.Blues)\n",
    "\n",
    "# Show the plot\n",
    "plt.show()\n",
    "\n",
    "# Print the best parameters for KNN\n",
    "print(\"Best parameters found by GridSearchCV for KNN:\")\n",
    "print(grid_search_knn.best_params_)"
   ]
  },
  {
   "cell_type": "code",
   "execution_count": 84,
   "id": "83dfcf42-f4c8-45b7-b9b3-c55776893c0d",
   "metadata": {},
   "outputs": [
    {
     "name": "stdout",
     "output_type": "stream",
     "text": [
      "Confusion Matrix:\n",
      "[[960   0]\n",
      " [ 62   0]]\n",
      "\n",
      "Classification Report:\n",
      "              precision    recall  f1-score   support\n",
      "\n",
      "         0.0       0.94      1.00      0.97       960\n",
      "         1.0       0.00      0.00      0.00        62\n",
      "\n",
      "    accuracy                           0.94      1022\n",
      "   macro avg       0.47      0.50      0.48      1022\n",
      "weighted avg       0.88      0.94      0.91      1022\n",
      "\n",
      "Accuracy: 0.9393\n",
      "Precision: 0.0000\n",
      "Recall: 0.0000\n",
      "AUC: 0.5622\n"
     ]
    },
    {
     "data": {
      "image/png": "[encoded data removed]",
      "text/plain": [
       "<Figure size 640x480 with 1 Axes>"
      ]
     },
     "metadata": {},
     "output_type": "display_data"
    },
    {
     "data": {
      "image/png": "[encoded data removed]",
      "text/plain": [
       "<Figure size 640x480 with 2 Axes>"
      ]
     },
     "metadata": {},
     "output_type": "display_data"
    },
    {
     "name": "stdout",
     "output_type": "stream",
     "text": [
      "Best parameters found by GridSearchCV:\n",
      "{'svc__C': 0.1, 'svc__gamma': 'scale', 'svc__kernel': 'linear'}\n"
     ]
    }
   ],
   "source": [
    "from sklearn.svm import SVC\n",
    "from sklearn.model_selection import GridSearchCV\n",
    "from sklearn.preprocessing import StandardScaler\n",
    "from sklearn.pipeline import Pipeline\n",
    "\n",
    "# Define the parameter grid for SVM\n",
    "param_grid_svm = {'svc__C': [0.1, 1, 10], 'svc__gamma': ['scale', 'auto'], 'svc__kernel': ['linear', 'rbf', 'poly', 'sigmoid']}\n",
    "\n",
    "# Create a pipeline to scale the data and apply SVC\n",
    "pipeline = Pipeline([\n",
    "    ('scaler', StandardScaler()),   # Step to scale the data\n",
    "    ('svc', SVC(probability=True))  # SVC model with probability=True\n",
    "])\n",
    "\n",
    "# GridSearchCV with pipeline\n",
    "grid_search_svm = GridSearchCV(pipeline, param_grid_svm, cv=5, scoring='accuracy', n_jobs=-1)\n",
    "\n",
    "# Fit the model with scaled data\n",
    "grid_search_svm.fit(X_train_combined, y_train_combined)\n",
    "\n",
    "# Predict and evaluate SVM\n",
    "svm_best = grid_search_svm.best_estimator_\n",
    "y_pred_svm = svm_best.predict(X_test)\n",
    "y_prob_svm = svm_best.predict_proba(X_test)[:, 1]\n",
    "\n",
    "# Print metrics\n",
    "evaluate_model(\"SVM\", y_test, y_pred_svm, y_prob_svm)\n",
    "\n",
    "# Generate the confusion matrix\n",
    "conf_matrix = confusion_matrix(y_test, y_pred_svm)\n",
    "\n",
    "# Create a ConfusionMatrixDisplay with a custom color map (cmap)\n",
    "disp = ConfusionMatrixDisplay(conf_matrix)\n",
    "\n",
    "# Plot the confusion matrix with a specific colormap, e.g., 'Blues'\n",
    "disp.plot(cmap=plt.cm.Blues)\n",
    "\n",
    "# Show the plot\n",
    "plt.show()\n",
    "\n",
    "# Print the best parameters\n",
    "print(\"Best parameters found by GridSearchCV:\")\n",
    "print(grid_search_svm.best_params_)"
   ]
  },
  {
   "cell_type": "code",
   "execution_count": 86,
   "id": "31c8c3e9-6e12-4d2a-a780-6875afc2f55d",
   "metadata": {},
   "outputs": [
    {
     "name": "stdout",
     "output_type": "stream",
     "text": [
      "Confusion Matrix:\n",
      "[[858 102]\n",
      " [ 34  28]]\n",
      "\n",
      "Classification Report:\n",
      "              precision    recall  f1-score   support\n",
      "\n",
      "         0.0       0.96      0.89      0.93       960\n",
      "         1.0       0.22      0.45      0.29        62\n",
      "\n",
      "    accuracy                           0.87      1022\n",
      "   macro avg       0.59      0.67      0.61      1022\n",
      "weighted avg       0.92      0.87      0.89      1022\n",
      "\n",
      "Accuracy: 0.8669\n",
      "Precision: 0.2154\n",
      "Recall: 0.4516\n",
      "AUC: 0.8054\n"
     ]
    },
    {
     "data": {
      "image/png": "[encoded data removed]",
      "text/plain": [
       "<Figure size 640x480 with 1 Axes>"
      ]
     },
     "metadata": {},
     "output_type": "display_data"
    },
    {
     "data": {
      "image/png": "[encoded data removed]",
      "text/plain": [
       "<Figure size 640x480 with 2 Axes>"
      ]
     },
     "metadata": {},
     "output_type": "display_data"
    }
   ],
   "source": [
    "from sklearn.naive_bayes import GaussianNB\n",
    "from sklearn.model_selection import GridSearchCV\n",
    "from sklearn.preprocessing import StandardScaler\n",
    "from sklearn.pipeline import Pipeline\n",
    "import matplotlib.pyplot as plt\n",
    "from sklearn.metrics import confusion_matrix, ConfusionMatrixDisplay\n",
    "\n",
    "# Since GaussianNB does not have many hyperparameters to tune, we will just fit it in the pipeline\n",
    "param_grid_nb = {}\n",
    "\n",
    "# Create a pipeline to scale the data and apply GaussianNB\n",
    "pipeline = Pipeline([\n",
    "    ('scaler', StandardScaler()),   # Step to scale the data\n",
    "    ('nb', GaussianNB())            # GaussianNB model\n",
    "])\n",
    "\n",
    "# GridSearchCV with pipeline (no parameter grid for Naive Bayes)\n",
    "grid_search_nb = GridSearchCV(pipeline, param_grid_nb, cv=5, scoring='accuracy', n_jobs=-1)\n",
    "\n",
    "# Fit the model with scaled data\n",
    "grid_search_nb.fit(X_train_combined, y_train_combined)\n",
    "\n",
    "# Predict and evaluate Naive Bayes\n",
    "nb_best = grid_search_nb.best_estimator_\n",
    "y_pred_nb = nb_best.predict(X_test)\n",
    "y_prob_nb = nb_best.predict_proba(X_test)[:, 1]\n",
    "\n",
    "# Print metrics (Assuming the same print_metrics function exists)\n",
    "evaluate_model(\"Naive Bayes\", y_test, y_pred_nb, y_prob_nb)\n",
    "\n",
    "# Generate the confusion matrix\n",
    "conf_matrix = confusion_matrix(y_test, y_pred_nb)\n",
    "\n",
    "# Create a ConfusionMatrixDisplay with a custom color map (cmap)\n",
    "disp = ConfusionMatrixDisplay(conf_matrix)\n",
    "\n",
    "# Plot the confusion matrix with a specific colormap, e.g., 'Blues'\n",
    "disp.plot(cmap=plt.cm.Blues)\n",
    "\n",
    "# Show the plot\n",
    "plt.show()\n"
   ]
  },
  {
   "cell_type": "code",
   "execution_count": null,
   "id": "fa7714ed-7b5e-4a77-8d5b-10b1c5072f61",
   "metadata": {},
   "outputs": [],
   "source": []
  }
 ],
 "metadata": {
  "kernelspec": {
   "display_name": "Python 3 (ipykernel)",
   "language": "python",
   "name": "python3"
  },
  "language_info": {
   "codemirror_mode": {
    "name": "ipython",
    "version": 3
   },
   "file_extension": ".py",
   "mimetype": "text/x-python",
   "name": "python",
   "nbconvert_exporter": "python",
   "pygments_lexer": "ipython3",
   "version": "3.12.4"
  }
 },
 "nbformat": 4,
 "nbformat_minor": 5
}
